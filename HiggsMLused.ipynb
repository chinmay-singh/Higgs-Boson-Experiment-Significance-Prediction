{
 "cells": [
  {
   "cell_type": "code",
   "execution_count": 1,
   "metadata": {},
   "outputs": [],
   "source": [
    "import csv\n",
    "import math\n",
    "import os\n",
    "import random\n",
    "from helper import *\n",
    "from preprocessing import *\n",
    "from classifier import *\n",
    "import numpy as np\n",
    "from sklearn.model_selection import *\n",
    "from sklearn.decomposition import *\n",
    "from sklearn.ensemble import *\n",
    "from sklearn.feature_selection import *\n",
    "# from sklearn.grid_search import *\n",
    "from sklearn.linear_model import *\n",
    "from sklearn.metrics import *\n",
    "from sklearn.preprocessing import *\n",
    "from sklearn.pipeline import *\n",
    "from sklearn.svm import *\n",
    "from sklearn.tree import *"
   ]
  },
  {
   "cell_type": "code",
   "execution_count": 7,
   "metadata": {},
   "outputs": [
    {
     "data": {
      "text/plain": [
       "0"
      ]
     },
     "execution_count": 7,
     "metadata": {},
     "output_type": "execute_result"
    }
   ],
   "source": [
    "os.system('taskset -p 0xffffffff %d' % os.getpid())"
   ]
  },
  {
   "cell_type": "code",
   "execution_count": 8,
   "metadata": {},
   "outputs": [],
   "source": [
    "seed = 512\n",
    "random.seed(seed)"
   ]
  },
  {
   "cell_type": "code",
   "execution_count": null,
   "metadata": {},
   "outputs": [],
   "source": []
  },
  {
   "cell_type": "code",
   "execution_count": 9,
   "metadata": {},
   "outputs": [
    {
     "name": "stdout",
     "output_type": "stream",
     "text": [
      "Loading training data.\n"
     ]
    }
   ],
   "source": [
    "print ('Loading training data.')\n",
    "data = np.loadtxt('training.csv',delimiter=',',skiprows=1, converters={32: lambda x:int(x=='s'.encode('utf-8'))})"
   ]
  },
  {
   "cell_type": "code",
   "execution_count": 10,
   "metadata": {},
   "outputs": [],
   "source": [
    "X = data[:,1:31]\n",
    "Y = data[:,32]\n",
    "W = data[:,31]"
   ]
  },
  {
   "cell_type": "code",
   "execution_count": 12,
   "metadata": {},
   "outputs": [
    {
     "name": "stdout",
     "output_type": "stream",
     "text": [
      "Loading testing data.\n"
     ]
    }
   ],
   "source": [
    "print ('Loading testing data.')\n",
    "test_data = np.loadtxt('test.csv',delimiter=',', skiprows=1)"
   ]
  },
  {
   "cell_type": "code",
   "execution_count": 13,
   "metadata": {},
   "outputs": [],
   "source": [
    "ids_test = test_data[:,0]\n",
    "X_test = test_data[:,1:31]\n",
    "W = data[:,31]"
   ]
  },
  {
   "cell_type": "code",
   "execution_count": 14,
   "metadata": {},
   "outputs": [
    {
     "name": "stderr",
     "output_type": "stream",
     "text": [
      "/home/bt1/17CS10037/anaconda2/envs/nlp/lib/python3.6/site-packages/sklearn/utils/deprecation.py:58: DeprecationWarning: Class Imputer is deprecated; Imputer was deprecated in version 0.20 and will be removed in 0.22. Import impute.SimpleImputer from sklearn instead.\n",
      "  warnings.warn(msg, category=DeprecationWarning)\n",
      "[Parallel(n_jobs=-1)]: Using backend ThreadingBackend with 32 concurrent workers.\n",
      "[Parallel(n_jobs=-1)]: Done 136 tasks      | elapsed:   24.8s\n",
      "[Parallel(n_jobs=-1)]: Done 400 out of 400 | elapsed:   56.4s finished\n",
      "[Parallel(n_jobs=32)]: Using backend ThreadingBackend with 32 concurrent workers.\n",
      "[Parallel(n_jobs=32)]: Done 136 tasks      | elapsed:    2.1s\n",
      "[Parallel(n_jobs=32)]: Done 400 out of 400 | elapsed:    6.0s finished\n",
      "[Parallel(n_jobs=-1)]: Using backend ThreadingBackend with 32 concurrent workers.\n",
      "[Parallel(n_jobs=-1)]: Done 136 tasks      | elapsed:   22.1s\n",
      "[Parallel(n_jobs=-1)]: Done 400 out of 400 | elapsed:   56.4s finished\n",
      "[Parallel(n_jobs=32)]: Using backend ThreadingBackend with 32 concurrent workers.\n",
      "[Parallel(n_jobs=32)]: Done 136 tasks      | elapsed:    2.3s\n",
      "[Parallel(n_jobs=32)]: Done 400 out of 400 | elapsed:    6.0s finished\n",
      "[Parallel(n_jobs=-1)]: Using backend ThreadingBackend with 32 concurrent workers.\n",
      "[Parallel(n_jobs=-1)]: Done 136 tasks      | elapsed:   22.0s\n",
      "[Parallel(n_jobs=-1)]: Done 400 out of 400 | elapsed:  1.0min finished\n",
      "[Parallel(n_jobs=32)]: Using backend ThreadingBackend with 32 concurrent workers.\n",
      "[Parallel(n_jobs=32)]: Done 136 tasks      | elapsed:    2.8s\n",
      "[Parallel(n_jobs=32)]: Done 400 out of 400 | elapsed:    7.1s finished\n",
      "[Parallel(n_jobs=-1)]: Using backend ThreadingBackend with 32 concurrent workers.\n",
      "[Parallel(n_jobs=-1)]: Done 136 tasks      | elapsed:   25.7s\n",
      "[Parallel(n_jobs=-1)]: Done 400 out of 400 | elapsed:  1.0min finished\n",
      "[Parallel(n_jobs=32)]: Using backend ThreadingBackend with 32 concurrent workers.\n",
      "[Parallel(n_jobs=32)]: Done 136 tasks      | elapsed:    2.2s\n",
      "[Parallel(n_jobs=32)]: Done 400 out of 400 | elapsed:    5.9s finished\n",
      "[Parallel(n_jobs=-1)]: Using backend ThreadingBackend with 32 concurrent workers.\n",
      "[Parallel(n_jobs=-1)]: Done 136 tasks      | elapsed:   22.3s\n",
      "[Parallel(n_jobs=-1)]: Done 400 out of 400 | elapsed:   59.1s finished\n",
      "[Parallel(n_jobs=32)]: Using backend ThreadingBackend with 32 concurrent workers.\n",
      "[Parallel(n_jobs=32)]: Done 136 tasks      | elapsed:    2.4s\n",
      "[Parallel(n_jobs=32)]: Done 400 out of 400 | elapsed:    6.4s finished\n",
      "[Parallel(n_jobs=-1)]: Using backend ThreadingBackend with 32 concurrent workers.\n",
      "[Parallel(n_jobs=-1)]: Done 136 tasks      | elapsed:   23.4s\n",
      "[Parallel(n_jobs=-1)]: Done 400 out of 400 | elapsed:  1.1min finished\n",
      "[Parallel(n_jobs=32)]: Using backend ThreadingBackend with 32 concurrent workers.\n",
      "[Parallel(n_jobs=32)]: Done 136 tasks      | elapsed:    2.5s\n",
      "[Parallel(n_jobs=32)]: Done 400 out of 400 | elapsed:    6.4s finished\n",
      "[Parallel(n_jobs=-1)]: Using backend ThreadingBackend with 32 concurrent workers.\n",
      "[Parallel(n_jobs=-1)]: Done 136 tasks      | elapsed:   25.4s\n",
      "[Parallel(n_jobs=-1)]: Done 400 out of 400 | elapsed:  1.1min finished\n",
      "[Parallel(n_jobs=32)]: Using backend ThreadingBackend with 32 concurrent workers.\n",
      "[Parallel(n_jobs=32)]: Done 136 tasks      | elapsed:    2.8s\n",
      "[Parallel(n_jobs=32)]: Done 400 out of 400 | elapsed:    7.1s finished\n",
      "[Parallel(n_jobs=-1)]: Using backend ThreadingBackend with 32 concurrent workers.\n",
      "[Parallel(n_jobs=-1)]: Done 136 tasks      | elapsed:   26.4s\n",
      "[Parallel(n_jobs=-1)]: Done 400 out of 400 | elapsed:  1.1min finished\n",
      "[Parallel(n_jobs=32)]: Using backend ThreadingBackend with 32 concurrent workers.\n",
      "[Parallel(n_jobs=32)]: Done 136 tasks      | elapsed:    2.0s\n",
      "[Parallel(n_jobs=32)]: Done 400 out of 400 | elapsed:    5.7s finished\n",
      "[Parallel(n_jobs=-1)]: Using backend ThreadingBackend with 32 concurrent workers.\n",
      "[Parallel(n_jobs=-1)]: Done 136 tasks      | elapsed:   26.0s\n",
      "[Parallel(n_jobs=-1)]: Done 400 out of 400 | elapsed:  1.1min finished\n",
      "[Parallel(n_jobs=32)]: Using backend ThreadingBackend with 32 concurrent workers.\n",
      "[Parallel(n_jobs=32)]: Done 136 tasks      | elapsed:    1.8s\n",
      "[Parallel(n_jobs=32)]: Done 400 out of 400 | elapsed:    5.4s finished\n",
      "[Parallel(n_jobs=-1)]: Using backend ThreadingBackend with 32 concurrent workers.\n",
      "[Parallel(n_jobs=-1)]: Done 136 tasks      | elapsed:   25.9s\n",
      "[Parallel(n_jobs=-1)]: Done 400 out of 400 | elapsed:  1.1min finished\n",
      "[Parallel(n_jobs=32)]: Using backend ThreadingBackend with 32 concurrent workers.\n",
      "[Parallel(n_jobs=32)]: Done 136 tasks      | elapsed:    2.8s\n",
      "[Parallel(n_jobs=32)]: Done 400 out of 400 | elapsed:    6.6s finished\n",
      "[Parallel(n_jobs=-1)]: Using backend ThreadingBackend with 32 concurrent workers.\n",
      "[Parallel(n_jobs=-1)]: Done 136 tasks      | elapsed:   29.9s\n",
      "[Parallel(n_jobs=-1)]: Done 400 out of 400 | elapsed:  1.2min finished\n",
      "[Parallel(n_jobs=32)]: Using backend ThreadingBackend with 32 concurrent workers.\n",
      "[Parallel(n_jobs=32)]: Done 136 tasks      | elapsed:    1.9s\n",
      "[Parallel(n_jobs=32)]: Done 400 out of 400 | elapsed:    5.7s finished\n",
      "[Parallel(n_jobs=-1)]: Using backend ThreadingBackend with 32 concurrent workers.\n",
      "[Parallel(n_jobs=-1)]: Done 136 tasks      | elapsed:   24.0s\n",
      "[Parallel(n_jobs=-1)]: Done 400 out of 400 | elapsed:  1.1min finished\n",
      "[Parallel(n_jobs=32)]: Using backend ThreadingBackend with 32 concurrent workers.\n",
      "[Parallel(n_jobs=32)]: Done 136 tasks      | elapsed:    3.0s\n",
      "[Parallel(n_jobs=32)]: Done 400 out of 400 | elapsed:    6.3s finished\n",
      "[Parallel(n_jobs=-1)]: Using backend ThreadingBackend with 32 concurrent workers.\n",
      "[Parallel(n_jobs=-1)]: Done 136 tasks      | elapsed:   25.5s\n",
      "[Parallel(n_jobs=-1)]: Done 400 out of 400 | elapsed:  1.2min finished\n",
      "[Parallel(n_jobs=32)]: Using backend ThreadingBackend with 32 concurrent workers.\n",
      "[Parallel(n_jobs=32)]: Done 136 tasks      | elapsed:    2.3s\n",
      "[Parallel(n_jobs=32)]: Done 400 out of 400 | elapsed:    5.9s finished\n",
      "[Parallel(n_jobs=-1)]: Using backend ThreadingBackend with 32 concurrent workers.\n",
      "[Parallel(n_jobs=-1)]: Done 136 tasks      | elapsed:   26.8s\n",
      "[Parallel(n_jobs=-1)]: Done 400 out of 400 | elapsed:  1.1min finished\n",
      "[Parallel(n_jobs=32)]: Using backend ThreadingBackend with 32 concurrent workers.\n",
      "[Parallel(n_jobs=32)]: Done 136 tasks      | elapsed:    2.4s\n",
      "[Parallel(n_jobs=32)]: Done 400 out of 400 | elapsed:    6.1s finished\n",
      "[Parallel(n_jobs=-1)]: Using backend ThreadingBackend with 32 concurrent workers.\n",
      "[Parallel(n_jobs=-1)]: Done 136 tasks      | elapsed:   25.4s\n",
      "[Parallel(n_jobs=-1)]: Done 400 out of 400 | elapsed:  1.1min finished\n",
      "[Parallel(n_jobs=32)]: Using backend ThreadingBackend with 32 concurrent workers.\n",
      "[Parallel(n_jobs=32)]: Done 136 tasks      | elapsed:    2.2s\n",
      "[Parallel(n_jobs=32)]: Done 400 out of 400 | elapsed:    5.4s finished\n",
      "[Parallel(n_jobs=-1)]: Using backend ThreadingBackend with 32 concurrent workers.\n",
      "[Parallel(n_jobs=-1)]: Done 136 tasks      | elapsed:   26.0s\n",
      "[Parallel(n_jobs=-1)]: Done 400 out of 400 | elapsed:  1.1min finished\n",
      "[Parallel(n_jobs=32)]: Using backend ThreadingBackend with 32 concurrent workers.\n",
      "[Parallel(n_jobs=32)]: Done 136 tasks      | elapsed:    2.0s\n",
      "[Parallel(n_jobs=32)]: Done 400 out of 400 | elapsed:    6.1s finished\n",
      "[Parallel(n_jobs=-1)]: Using backend ThreadingBackend with 32 concurrent workers.\n",
      "[Parallel(n_jobs=-1)]: Done 136 tasks      | elapsed:   23.0s\n",
      "[Parallel(n_jobs=-1)]: Done 400 out of 400 | elapsed:  1.1min finished\n",
      "[Parallel(n_jobs=32)]: Using backend ThreadingBackend with 32 concurrent workers.\n",
      "[Parallel(n_jobs=32)]: Done 136 tasks      | elapsed:    2.2s\n",
      "[Parallel(n_jobs=32)]: Done 400 out of 400 | elapsed:    5.9s finished\n",
      "[Parallel(n_jobs=-1)]: Using backend ThreadingBackend with 32 concurrent workers.\n",
      "[Parallel(n_jobs=-1)]: Done 136 tasks      | elapsed:   23.9s\n",
      "[Parallel(n_jobs=-1)]: Done 400 out of 400 | elapsed:  1.1min finished\n",
      "[Parallel(n_jobs=32)]: Using backend ThreadingBackend with 32 concurrent workers.\n",
      "[Parallel(n_jobs=32)]: Done 136 tasks      | elapsed:    2.2s\n",
      "[Parallel(n_jobs=32)]: Done 400 out of 400 | elapsed:    5.8s finished\n",
      "[Parallel(n_jobs=-1)]: Using backend ThreadingBackend with 32 concurrent workers.\n",
      "[Parallel(n_jobs=-1)]: Done 136 tasks      | elapsed:   24.5s\n"
     ]
    },
    {
     "name": "stderr",
     "output_type": "stream",
     "text": [
      "[Parallel(n_jobs=-1)]: Done 400 out of 400 | elapsed:  1.2min finished\n",
      "[Parallel(n_jobs=32)]: Using backend ThreadingBackend with 32 concurrent workers.\n",
      "[Parallel(n_jobs=32)]: Done 136 tasks      | elapsed:    2.5s\n",
      "[Parallel(n_jobs=32)]: Done 400 out of 400 | elapsed:    5.9s finished\n",
      "[Parallel(n_jobs=-1)]: Using backend ThreadingBackend with 32 concurrent workers.\n",
      "[Parallel(n_jobs=-1)]: Done 136 tasks      | elapsed:   27.5s\n",
      "[Parallel(n_jobs=-1)]: Done 400 out of 400 | elapsed:  1.1min finished\n",
      "[Parallel(n_jobs=32)]: Using backend ThreadingBackend with 32 concurrent workers.\n",
      "[Parallel(n_jobs=32)]: Done 136 tasks      | elapsed:    1.9s\n",
      "[Parallel(n_jobs=32)]: Done 400 out of 400 | elapsed:    5.6s finished\n",
      "[Parallel(n_jobs=32)]: Using backend ThreadingBackend with 32 concurrent workers.\n",
      "[Parallel(n_jobs=32)]: Done 136 tasks      | elapsed:    2.4s\n",
      "[Parallel(n_jobs=32)]: Done 400 out of 400 | elapsed:    7.0s finished\n",
      "[Parallel(n_jobs=32)]: Using backend ThreadingBackend with 32 concurrent workers.\n",
      "[Parallel(n_jobs=32)]: Done 136 tasks      | elapsed:    2.1s\n",
      "[Parallel(n_jobs=32)]: Done 400 out of 400 | elapsed:    7.2s finished\n",
      "[Parallel(n_jobs=32)]: Using backend ThreadingBackend with 32 concurrent workers.\n",
      "[Parallel(n_jobs=32)]: Done 136 tasks      | elapsed:    2.5s\n",
      "[Parallel(n_jobs=32)]: Done 400 out of 400 | elapsed:    6.3s finished\n",
      "[Parallel(n_jobs=32)]: Using backend ThreadingBackend with 32 concurrent workers.\n",
      "[Parallel(n_jobs=32)]: Done 136 tasks      | elapsed:    2.5s\n",
      "[Parallel(n_jobs=32)]: Done 400 out of 400 | elapsed:    7.6s finished\n",
      "[Parallel(n_jobs=32)]: Using backend ThreadingBackend with 32 concurrent workers.\n",
      "[Parallel(n_jobs=32)]: Done 136 tasks      | elapsed:    2.3s\n",
      "[Parallel(n_jobs=32)]: Done 400 out of 400 | elapsed:    6.8s finished\n",
      "[Parallel(n_jobs=32)]: Using backend ThreadingBackend with 32 concurrent workers.\n",
      "[Parallel(n_jobs=32)]: Done 136 tasks      | elapsed:    2.1s\n",
      "[Parallel(n_jobs=32)]: Done 400 out of 400 | elapsed:    5.9s finished\n",
      "[Parallel(n_jobs=32)]: Using backend ThreadingBackend with 32 concurrent workers.\n",
      "[Parallel(n_jobs=32)]: Done 136 tasks      | elapsed:    2.4s\n",
      "[Parallel(n_jobs=32)]: Done 400 out of 400 | elapsed:    6.3s finished\n",
      "[Parallel(n_jobs=32)]: Using backend ThreadingBackend with 32 concurrent workers.\n",
      "[Parallel(n_jobs=32)]: Done 136 tasks      | elapsed:    2.2s\n",
      "[Parallel(n_jobs=32)]: Done 400 out of 400 | elapsed:    6.8s finished\n",
      "[Parallel(n_jobs=32)]: Using backend ThreadingBackend with 32 concurrent workers.\n",
      "[Parallel(n_jobs=32)]: Done 136 tasks      | elapsed:    2.4s\n",
      "[Parallel(n_jobs=32)]: Done 400 out of 400 | elapsed:    6.2s finished\n",
      "[Parallel(n_jobs=32)]: Using backend ThreadingBackend with 32 concurrent workers.\n",
      "[Parallel(n_jobs=32)]: Done 136 tasks      | elapsed:    3.0s\n",
      "[Parallel(n_jobs=32)]: Done 400 out of 400 | elapsed:    6.4s finished\n",
      "[Parallel(n_jobs=32)]: Using backend ThreadingBackend with 32 concurrent workers.\n",
      "[Parallel(n_jobs=32)]: Done 136 tasks      | elapsed:    1.9s\n",
      "[Parallel(n_jobs=32)]: Done 400 out of 400 | elapsed:    6.6s finished\n",
      "[Parallel(n_jobs=32)]: Using backend ThreadingBackend with 32 concurrent workers.\n",
      "[Parallel(n_jobs=32)]: Done 136 tasks      | elapsed:    2.8s\n",
      "[Parallel(n_jobs=32)]: Done 400 out of 400 | elapsed:    6.7s finished\n",
      "[Parallel(n_jobs=32)]: Using backend ThreadingBackend with 32 concurrent workers.\n",
      "[Parallel(n_jobs=32)]: Done 136 tasks      | elapsed:    2.0s\n",
      "[Parallel(n_jobs=32)]: Done 400 out of 400 | elapsed:    5.7s finished\n",
      "[Parallel(n_jobs=32)]: Using backend ThreadingBackend with 32 concurrent workers.\n",
      "[Parallel(n_jobs=32)]: Done 136 tasks      | elapsed:    1.9s\n",
      "[Parallel(n_jobs=32)]: Done 400 out of 400 | elapsed:    6.0s finished\n",
      "[Parallel(n_jobs=32)]: Using backend ThreadingBackend with 32 concurrent workers.\n",
      "[Parallel(n_jobs=32)]: Done 136 tasks      | elapsed:    2.8s\n",
      "[Parallel(n_jobs=32)]: Done 400 out of 400 | elapsed:    6.7s finished\n",
      "[Parallel(n_jobs=32)]: Using backend ThreadingBackend with 32 concurrent workers.\n",
      "[Parallel(n_jobs=32)]: Done 136 tasks      | elapsed:    2.6s\n",
      "[Parallel(n_jobs=32)]: Done 400 out of 400 | elapsed:    6.7s finished\n",
      "[Parallel(n_jobs=32)]: Using backend ThreadingBackend with 32 concurrent workers.\n",
      "[Parallel(n_jobs=32)]: Done 136 tasks      | elapsed:    2.2s\n",
      "[Parallel(n_jobs=32)]: Done 400 out of 400 | elapsed:    6.4s finished\n",
      "[Parallel(n_jobs=32)]: Using backend ThreadingBackend with 32 concurrent workers.\n",
      "[Parallel(n_jobs=32)]: Done 136 tasks      | elapsed:    2.9s\n",
      "[Parallel(n_jobs=32)]: Done 400 out of 400 | elapsed:    6.2s finished\n",
      "[Parallel(n_jobs=32)]: Using backend ThreadingBackend with 32 concurrent workers.\n",
      "[Parallel(n_jobs=32)]: Done 136 tasks      | elapsed:    2.1s\n",
      "[Parallel(n_jobs=32)]: Done 400 out of 400 | elapsed:    6.4s finished\n",
      "[Parallel(n_jobs=32)]: Using backend ThreadingBackend with 32 concurrent workers.\n",
      "[Parallel(n_jobs=32)]: Done 136 tasks      | elapsed:    2.0s\n",
      "[Parallel(n_jobs=32)]: Done 400 out of 400 | elapsed:    5.5s finished\n",
      "[Parallel(n_jobs=32)]: Using backend ThreadingBackend with 32 concurrent workers.\n",
      "[Parallel(n_jobs=32)]: Done 136 tasks      | elapsed:    5.7s\n",
      "[Parallel(n_jobs=32)]: Done 400 out of 400 | elapsed:   43.9s finished\n",
      "[Parallel(n_jobs=32)]: Using backend ThreadingBackend with 32 concurrent workers.\n",
      "[Parallel(n_jobs=32)]: Done 136 tasks      | elapsed:    4.7s\n",
      "[Parallel(n_jobs=32)]: Done 400 out of 400 | elapsed:   14.4s finished\n",
      "[Parallel(n_jobs=32)]: Using backend ThreadingBackend with 32 concurrent workers.\n",
      "[Parallel(n_jobs=32)]: Done 136 tasks      | elapsed:    5.0s\n",
      "[Parallel(n_jobs=32)]: Done 400 out of 400 | elapsed:   14.5s finished\n",
      "[Parallel(n_jobs=32)]: Using backend ThreadingBackend with 32 concurrent workers.\n",
      "[Parallel(n_jobs=32)]: Done 136 tasks      | elapsed:    5.0s\n",
      "[Parallel(n_jobs=32)]: Done 400 out of 400 | elapsed:   12.9s finished\n",
      "[Parallel(n_jobs=32)]: Using backend ThreadingBackend with 32 concurrent workers.\n",
      "[Parallel(n_jobs=32)]: Done 136 tasks      | elapsed:    5.3s\n",
      "[Parallel(n_jobs=32)]: Done 400 out of 400 | elapsed:   14.9s finished\n",
      "[Parallel(n_jobs=32)]: Using backend ThreadingBackend with 32 concurrent workers.\n",
      "[Parallel(n_jobs=32)]: Done 136 tasks      | elapsed:    4.6s\n",
      "[Parallel(n_jobs=32)]: Done 400 out of 400 | elapsed:   13.0s finished\n",
      "[Parallel(n_jobs=32)]: Using backend ThreadingBackend with 32 concurrent workers.\n",
      "[Parallel(n_jobs=32)]: Done 136 tasks      | elapsed:   17.1s\n",
      "[Parallel(n_jobs=32)]: Done 400 out of 400 | elapsed:   27.2s finished\n",
      "[Parallel(n_jobs=32)]: Using backend ThreadingBackend with 32 concurrent workers.\n",
      "[Parallel(n_jobs=32)]: Done 136 tasks      | elapsed:    4.1s\n",
      "[Parallel(n_jobs=32)]: Done 400 out of 400 | elapsed:   12.0s finished\n",
      "[Parallel(n_jobs=32)]: Using backend ThreadingBackend with 32 concurrent workers.\n",
      "[Parallel(n_jobs=32)]: Done 136 tasks      | elapsed:    4.7s\n",
      "[Parallel(n_jobs=32)]: Done 400 out of 400 | elapsed:   12.8s finished\n",
      "[Parallel(n_jobs=32)]: Using backend ThreadingBackend with 32 concurrent workers.\n",
      "[Parallel(n_jobs=32)]: Done 136 tasks      | elapsed:    4.7s\n",
      "[Parallel(n_jobs=32)]: Done 400 out of 400 | elapsed:   11.9s finished\n",
      "[Parallel(n_jobs=32)]: Using backend ThreadingBackend with 32 concurrent workers.\n",
      "[Parallel(n_jobs=32)]: Done 136 tasks      | elapsed:    6.0s\n",
      "[Parallel(n_jobs=32)]: Done 400 out of 400 | elapsed:   15.6s finished\n",
      "[Parallel(n_jobs=32)]: Using backend ThreadingBackend with 32 concurrent workers.\n",
      "[Parallel(n_jobs=32)]: Done 136 tasks      | elapsed:    7.2s\n",
      "[Parallel(n_jobs=32)]: Done 400 out of 400 | elapsed:   14.9s finished\n",
      "[Parallel(n_jobs=32)]: Using backend ThreadingBackend with 32 concurrent workers.\n",
      "[Parallel(n_jobs=32)]: Done 136 tasks      | elapsed:    6.4s\n",
      "[Parallel(n_jobs=32)]: Done 400 out of 400 | elapsed:   14.9s finished\n",
      "[Parallel(n_jobs=32)]: Using backend ThreadingBackend with 32 concurrent workers.\n",
      "[Parallel(n_jobs=32)]: Done 136 tasks      | elapsed:    4.9s\n",
      "[Parallel(n_jobs=32)]: Done 400 out of 400 | elapsed:   14.3s finished\n",
      "[Parallel(n_jobs=32)]: Using backend ThreadingBackend with 32 concurrent workers.\n",
      "[Parallel(n_jobs=32)]: Done 136 tasks      | elapsed:    3.8s\n",
      "[Parallel(n_jobs=32)]: Done 400 out of 400 | elapsed:   11.8s finished\n",
      "[Parallel(n_jobs=32)]: Using backend ThreadingBackend with 32 concurrent workers.\n"
     ]
    },
    {
     "name": "stderr",
     "output_type": "stream",
     "text": [
      "[Parallel(n_jobs=32)]: Done 136 tasks      | elapsed:    4.7s\n",
      "[Parallel(n_jobs=32)]: Done 400 out of 400 | elapsed:   12.5s finished\n",
      "[Parallel(n_jobs=32)]: Using backend ThreadingBackend with 32 concurrent workers.\n",
      "[Parallel(n_jobs=32)]: Done 136 tasks      | elapsed:    5.8s\n",
      "[Parallel(n_jobs=32)]: Done 400 out of 400 | elapsed:   13.5s finished\n",
      "[Parallel(n_jobs=32)]: Using backend ThreadingBackend with 32 concurrent workers.\n",
      "[Parallel(n_jobs=32)]: Done 136 tasks      | elapsed:    5.8s\n",
      "[Parallel(n_jobs=32)]: Done 400 out of 400 | elapsed:   13.8s finished\n",
      "[Parallel(n_jobs=32)]: Using backend ThreadingBackend with 32 concurrent workers.\n",
      "[Parallel(n_jobs=32)]: Done 136 tasks      | elapsed:    6.4s\n",
      "[Parallel(n_jobs=32)]: Done 400 out of 400 | elapsed:   14.7s finished\n",
      "[Parallel(n_jobs=32)]: Using backend ThreadingBackend with 32 concurrent workers.\n",
      "[Parallel(n_jobs=32)]: Done 136 tasks      | elapsed:    5.6s\n",
      "[Parallel(n_jobs=32)]: Done 400 out of 400 | elapsed:   13.7s finished\n"
     ]
    }
   ],
   "source": [
    "Y_test_pred, thresholded_Y_test_pred = train_and_predict(X, W, Y, X_test)"
   ]
  },
  {
   "cell_type": "code",
   "execution_count": 17,
   "metadata": {},
   "outputs": [],
   "source": [
    "write_submission_file(ids_test, Y_test_pred, thresholded_Y_test_pred)"
   ]
  },
  {
   "cell_type": "code",
   "execution_count": null,
   "metadata": {},
   "outputs": [],
   "source": []
  }
 ],
 "metadata": {
  "kernelspec": {
   "display_name": "Python 3",
   "language": "python",
   "name": "python3"
  },
  "language_info": {
   "codemirror_mode": {
    "name": "ipython",
    "version": 3
   },
   "file_extension": ".py",
   "mimetype": "text/x-python",
   "name": "python",
   "nbconvert_exporter": "python",
   "pygments_lexer": "ipython3",
   "version": "3.7.1"
  }
 },
 "nbformat": 4,
 "nbformat_minor": 2
}
